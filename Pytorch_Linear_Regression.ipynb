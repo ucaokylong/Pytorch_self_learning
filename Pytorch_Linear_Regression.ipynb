{
  "nbformat": 4,
  "nbformat_minor": 0,
  "metadata": {
    "colab": {
      "provenance": [],
      "gpuType": "T4",
      "toc_visible": true,
      "authorship_tag": "ABX9TyPcU7vdhpaH52KAVqxZ+zR6",
      "include_colab_link": true
    },
    "kernelspec": {
      "name": "python3",
      "display_name": "Python 3"
    },
    "language_info": {
      "name": "python"
    },
    "accelerator": "GPU"
  },
  "cells": [
    {
      "cell_type": "markdown",
      "metadata": {
        "id": "view-in-github",
        "colab_type": "text"
      },
      "source": [
        "<a href=\"https://colab.research.google.com/github/ucaokylong/Pytorch_self_learning/blob/main/Pytorch_Linear_Regression.ipynb\" target=\"_parent\"><img src=\"https://colab.research.google.com/assets/colab-badge.svg\" alt=\"Open In Colab\"/></a>"
      ]
    },
    {
      "cell_type": "code",
      "execution_count": 1,
      "metadata": {
        "colab": {
          "base_uri": "https://localhost:8080/"
        },
        "id": "BBenmqYc6cJa",
        "outputId": "26bcb92f-d75c-4642-d4c5-4d905ed5be9d"
      },
      "outputs": [
        {
          "output_type": "execute_result",
          "data": {
            "text/plain": [
              "{1: 'data (prepare and load)',\n",
              " 2: 'build model',\n",
              " 3: 'fitting the model to data (training)',\n",
              " 4: 'making predictions and evaluating a model (inference)',\n",
              " 5: 'saving and loading a model',\n",
              " 6: 'putting it all together'}"
            ]
          },
          "metadata": {},
          "execution_count": 1
        }
      ],
      "source": [
        "what_were_covering = {1: \"data (prepare and load)\",\n",
        "                      2: \"build model\",\n",
        "                      3:\"fitting the model to data (training)\",\n",
        "                      4: \"making predictions and evaluating a model (inference)\",\n",
        "                      5: \"saving and loading a model\",\n",
        "                      6: \"putting it all together\"\n",
        "                      }\n",
        "\n",
        "\n",
        "what_were_covering"
      ]
    },
    {
      "cell_type": "markdown",
      "source": [],
      "metadata": {
        "id": "V-1_hzqY8SzP"
      }
    },
    {
      "cell_type": "code",
      "source": [
        "import torch\n",
        "import torch.nn as nn #all of Pytorch's building blocks for neuron network\n",
        "import matplotlib.pyplot as plt \n",
        "\n",
        "torch.__version__"
      ],
      "metadata": {
        "colab": {
          "base_uri": "https://localhost:8080/",
          "height": 36
        },
        "id": "X0nmONch8O2g",
        "outputId": "960517d1-3f68-4bab-a7f1-bc0b5ea671e1"
      },
      "execution_count": 2,
      "outputs": [
        {
          "output_type": "execute_result",
          "data": {
            "text/plain": [
              "'2.0.1+cu118'"
            ],
            "application/vnd.google.colaboratory.intrinsic+json": {
              "type": "string"
            }
          },
          "metadata": {},
          "execution_count": 2
        }
      ]
    },
    {
      "cell_type": "markdown",
      "source": [
        "# Data (preparing and loading)\n",
        "\n",
        "Data can be almost anything... in machine learning.\n",
        "\n",
        "* Excel spreadsheet\n",
        "* Images of any kind\n",
        "* Video\n",
        "* Audio like songs or podcasts or sound\n",
        "* DNA\n",
        "* Text\n",
        "\n",
        "Two parts are important in Machine Learning:\n",
        "1. Get data into a numerical representation.\n",
        "2. Build a model to learn patterns in that numerical representation."
      ],
      "metadata": {
        "id": "WsDq4_VF-ww-"
      }
    },
    {
      "cell_type": "code",
      "source": [
        "#Create *known* parameters\n",
        "\n",
        "weight = 0.6 \n",
        "bias = 1.4\n",
        "\n",
        "#Create\n",
        "start = 0.8\n",
        "end = 5\n",
        "step = 0.057\n",
        "X = torch.arange(start, end ,step).unsqueeze(dim=1)\n",
        "y = weight * X + bias\n",
        "X[:10], y[:10], len(X), len(y)"
      ],
      "metadata": {
        "colab": {
          "base_uri": "https://localhost:8080/"
        },
        "id": "kRPwqHaO-xtu",
        "outputId": "78a1c1f4-0550-4c7e-c9a5-12b5c003f524"
      },
      "execution_count": 3,
      "outputs": [
        {
          "output_type": "execute_result",
          "data": {
            "text/plain": [
              "(tensor([[0.8000],\n",
              "         [0.8570],\n",
              "         [0.9140],\n",
              "         [0.9710],\n",
              "         [1.0280],\n",
              "         [1.0850],\n",
              "         [1.1420],\n",
              "         [1.1990],\n",
              "         [1.2560],\n",
              "         [1.3130]]),\n",
              " tensor([[1.8800],\n",
              "         [1.9142],\n",
              "         [1.9484],\n",
              "         [1.9826],\n",
              "         [2.0168],\n",
              "         [2.0510],\n",
              "         [2.0852],\n",
              "         [2.1194],\n",
              "         [2.1536],\n",
              "         [2.1878]]),\n",
              " 74,\n",
              " 74)"
            ]
          },
          "metadata": {},
          "execution_count": 3
        }
      ]
    },
    {
      "cell_type": "code",
      "source": [
        "#Create a train/test split\n",
        "train_split = int(0.8 * len(X))\n",
        "X_train, y_train = X[: train_split], y[:train_split]\n",
        "X_test, y_test = X[train_split:], y[train_split:]\n",
        "len(X_test)"
      ],
      "metadata": {
        "id": "reQZ7iXeLM8S",
        "colab": {
          "base_uri": "https://localhost:8080/"
        },
        "outputId": "b716b888-9cb7-4254-a858-c4db24a821a5"
      },
      "execution_count": 4,
      "outputs": [
        {
          "output_type": "execute_result",
          "data": {
            "text/plain": [
              "15"
            ]
          },
          "metadata": {},
          "execution_count": 4
        }
      ]
    },
    {
      "cell_type": "code",
      "source": [
        "def plot_predictions(train_data = X_train,\n",
        "                     train_labels = y_train,\n",
        "                     test_data = X_test,\n",
        "                     test_labels = y_test,\n",
        "                     predictions = None):\n",
        "  \n",
        "  plt.figure(figsize = (10,7))\n",
        "\n",
        "  #plot training data in blue\n",
        "  plt.scatter(train_data, train_labels, c=\"b\", s =4, label = \"Training data\")\n",
        "\n",
        "  plt.scatter(test_data, test_labels, c= \"g\", s =4, label =\"Testing data\")\n",
        "  \n",
        "  if predictions is not None:\n",
        "    plt.scatter(test_data, predictions, c='r', s =4, label = \"Predictions\")\n",
        "\n",
        "    plt.legend(prop ={\"size\": 14} );"
      ],
      "metadata": {
        "id": "TjqNH1cCVQme"
      },
      "execution_count": 5,
      "outputs": []
    },
    {
      "cell_type": "code",
      "source": [
        "plot_predictions(X_train, y_train, X_test, y_test)"
      ],
      "metadata": {
        "colab": {
          "base_uri": "https://localhost:8080/",
          "height": 604
        },
        "id": "okcmE6myvWup",
        "outputId": "b7fa2d33-cfe8-4fc3-bcc0-9375c31f9773"
      },
      "execution_count": 6,
      "outputs": [
        {
          "output_type": "display_data",
          "data": {
            "text/plain": [
              "<Figure size 1000x700 with 1 Axes>"
            ],
            "image/png": "[encoded data removed]"
          },
          "metadata": {}
        }
      ]
    },
    {
      "cell_type": "markdown",
      "source": [
        "# ***BUILD MODEL***\n",
        "First Pytorch model"
      ],
      "metadata": {
        "id": "13WEX1ikqBmW"
      }
    },
    {
      "cell_type": "code",
      "source": [
        "# Create Linear regression model class\n",
        "class LinearRegressionModel(nn.Module):\n",
        "  def __init__(self):\n",
        "    super().__init__()\n",
        "    self.weights = nn.Parameter(torch.randn(1,\n",
        "                                            requires_grad=True,\n",
        "                                            dtype=torch.float))\n",
        "    self.bias = nn.Parameter(torch.randn(1,\n",
        "                                         requires_grad=True,\n",
        "                                         dtype=torch.float))\n",
        "    \n",
        "    #Forward method to define the computation in the model\n",
        "\n",
        "  def forward(self, x:torch.Tensor) -> torch.Tensor:\n",
        "    return self.weights * x + self.bias"
      ],
      "metadata": {
        "id": "YrJvzi35qTGH"
      },
      "execution_count": 7,
      "outputs": []
    },
    {
      "cell_type": "code",
      "source": [
        "torch.manual_seed(42)\n",
        "model_0 = LinearRegressionModel()\n",
        "list(model_0.parameters())"
      ],
      "metadata": {
        "colab": {
          "base_uri": "https://localhost:8080/"
        },
        "id": "dvHgD_OtFfgo",
        "outputId": "edd74812-5f52-464f-ea96-8b96d6dea221"
      },
      "execution_count": 8,
      "outputs": [
        {
          "output_type": "execute_result",
          "data": {
            "text/plain": [
              "[Parameter containing:\n",
              " tensor([0.3367], requires_grad=True),\n",
              " Parameter containing:\n",
              " tensor([0.1288], requires_grad=True)]"
            ]
          },
          "metadata": {},
          "execution_count": 8
        }
      ]
    },
    {
      "cell_type": "code",
      "source": [
        "#List named parameters\n",
        "model_0.state_dict()"
      ],
      "metadata": {
        "colab": {
          "base_uri": "https://localhost:8080/"
        },
        "id": "AiKCt_aDTlD3",
        "outputId": "3a418099-07c6-47a7-af01-d9f2a6c16a9f"
      },
      "execution_count": 9,
      "outputs": [
        {
          "output_type": "execute_result",
          "data": {
            "text/plain": [
              "OrderedDict([('weights', tensor([0.3367])), ('bias', tensor([0.1288]))])"
            ]
          },
          "metadata": {},
          "execution_count": 9
        }
      ]
    },
    {
      "cell_type": "code",
      "source": [
        "##Making prediction using `torch.inference_mode()`\n",
        "\n",
        "with torch.inference_mode():\n",
        "  y_preds = model_0(X_test)\n",
        "\n",
        "y_preds"
      ],
      "metadata": {
        "colab": {
          "base_uri": "https://localhost:8080/"
        },
        "id": "SvBYpPtIVGEG",
        "outputId": "306fba60-f30e-4aab-86f0-979bf0678dff"
      },
      "execution_count": 10,
      "outputs": [
        {
          "output_type": "execute_result",
          "data": {
            "text/plain": [
              "tensor([[1.5305],\n",
              "        [1.5496],\n",
              "        [1.5688],\n",
              "        [1.5880],\n",
              "        [1.6072],\n",
              "        [1.6264],\n",
              "        [1.6456],\n",
              "        [1.6648],\n",
              "        [1.6840],\n",
              "        [1.7032],\n",
              "        [1.7224],\n",
              "        [1.7416],\n",
              "        [1.7607],\n",
              "        [1.7799],\n",
              "        [1.7991]])"
            ]
          },
          "metadata": {},
          "execution_count": 10
        }
      ]
    },
    {
      "cell_type": "code",
      "source": [
        "plot_predictions(predictions = y_preds)"
      ],
      "metadata": {
        "colab": {
          "base_uri": "https://localhost:8080/",
          "height": 601
        },
        "id": "d7dCc2aFWi14",
        "outputId": "3a874de2-b7ee-4e0e-d775-2a5f5f254839"
      },
      "execution_count": 11,
      "outputs": [
        {
          "output_type": "display_data",
          "data": {
            "text/plain": [
              "<Figure size 1000x700 with 1 Axes>"
            ],
            "image/png": "[encoded data removed]"
          },
          "metadata": {}
        }
      ]
    },
    {
      "cell_type": "code",
      "source": [
        "list(model_0.parameters())"
      ],
      "metadata": {
        "id": "UFNJ0QA8ZMlm",
        "colab": {
          "base_uri": "https://localhost:8080/"
        },
        "outputId": "946a5ace-be0f-4efa-f6b1-cd841330bc0b"
      },
      "execution_count": 12,
      "outputs": [
        {
          "output_type": "execute_result",
          "data": {
            "text/plain": [
              "[Parameter containing:\n",
              " tensor([0.3367], requires_grad=True),\n",
              " Parameter containing:\n",
              " tensor([0.1288], requires_grad=True)]"
            ]
          },
          "metadata": {},
          "execution_count": 12
        }
      ]
    },
    {
      "cell_type": "code",
      "source": [
        "#Setup a loss function\n",
        "loss_fn = nn.L1Loss() \n",
        "\n",
        "#Setup an optimizer function\n",
        "optimizer = torch.optim.SGD(params = model_0.parameters(),\n",
        "                            lr = 0.01 )"
      ],
      "metadata": {
        "id": "VLsLrlW-GKqR"
      },
      "execution_count": 13,
      "outputs": []
    },
    {
      "cell_type": "code",
      "source": [
        "list(model_0.eval().parameters())"
      ],
      "metadata": {
        "colab": {
          "base_uri": "https://localhost:8080/"
        },
        "id": "kg8gOUbpQD8L",
        "outputId": "bd02f2c6-7d82-4d78-9c49-2a49e1c1bae0"
      },
      "execution_count": 14,
      "outputs": [
        {
          "output_type": "execute_result",
          "data": {
            "text/plain": [
              "[Parameter containing:\n",
              " tensor([0.3367], requires_grad=True),\n",
              " Parameter containing:\n",
              " tensor([0.1288], requires_grad=True)]"
            ]
          },
          "metadata": {},
          "execution_count": 14
        }
      ]
    },
    {
      "cell_type": "markdown",
      "source": [
        "#Building a training loop in PyTorch\n"
      ],
      "metadata": {
        "id": "8cjRO19BNGk0"
      }
    },
    {
      "cell_type": "code",
      "source": [
        "epochs =400\n",
        "epoch_count = []\n",
        "loss_values = []\n",
        "test_loss_values =[]\n",
        "\n",
        "for epoch in range(epochs):\n",
        "\n",
        "  #Training mode\n",
        "  model_0.train()\n",
        "\n",
        "  #1. Forward pass\n",
        "  y_pred = model_0(X_train)\n",
        "\n",
        "  #2. Calculate the loss\n",
        "  loss = loss_fn(y_pred, y_train)\n",
        "\n",
        "  #3. Optimizer zero grad\n",
        "  optimizer.zero_grad()\n",
        "\n",
        "  #4. Backpropagation\n",
        "  loss.backward()\n",
        "\n",
        "  #5. Step the optimizer\n",
        "  optimizer.step()\n",
        "  #model_0.eval()\n",
        "\n",
        "  #Testing\n",
        "  model_0.eval()\n",
        "  with torch.inference_mode():\n",
        "    test_pred = model_0(X_test)\n",
        "    test_loss = loss_fn(test_pred, y_test)\n",
        "\n",
        "  if epoch % 20 ==0:\n",
        "    epoch_count.append(epoch)\n",
        "    loss_values.append(loss)\n",
        "    test_loss_values.append(test_loss)\n",
        "    if epoch % 50 ==0:\n",
        "      print(f\"Epoch: {epoch} | Loss: {loss}  |  Test loss: {test_loss}\")\n",
        "model_0.state_dict()"
      ],
      "metadata": {
        "colab": {
          "base_uri": "https://localhost:8080/"
        },
        "id": "N-rXG9C5QBXH",
        "outputId": "a9fe2c0f-8041-4a00-af65-10dc60756a14"
      },
      "execution_count": 15,
      "outputs": [
        {
          "output_type": "stream",
          "name": "stdout",
          "text": [
            "Epoch: 0 | Loss: 1.9170892238616943  |  Test loss: 2.350503444671631\n",
            "Epoch: 100 | Loss: 0.2513875663280487  |  Test loss: 0.4587825536727905\n",
            "Epoch: 200 | Loss: 0.1653498262166977  |  Test loss: 0.2994519770145416\n",
            "Epoch: 300 | Loss: 0.0792798325419426  |  Test loss: 0.14496107399463654\n"
          ]
        },
        {
          "output_type": "execute_result",
          "data": {
            "text/plain": [
              "OrderedDict([('weights', tensor([0.6091])), ('bias', tensor([1.3631]))])"
            ]
          },
          "metadata": {},
          "execution_count": 15
        }
      ]
    },
    {
      "cell_type": "code",
      "source": [
        "model_0.state_dict()"
      ],
      "metadata": {
        "colab": {
          "base_uri": "https://localhost:8080/"
        },
        "id": "a0uWlhrVclrL",
        "outputId": "afedee42-6004-4e41-fc0f-30cd27e503c2"
      },
      "execution_count": 16,
      "outputs": [
        {
          "output_type": "execute_result",
          "data": {
            "text/plain": [
              "OrderedDict([('weights', tensor([0.6091])), ('bias', tensor([1.3631]))])"
            ]
          },
          "metadata": {},
          "execution_count": 16
        }
      ]
    },
    {
      "cell_type": "code",
      "source": [
        "import numpy as np\n",
        "np.array(torch.tensor(loss_values).numpy())"
      ],
      "metadata": {
        "colab": {
          "base_uri": "https://localhost:8080/"
        },
        "id": "Gp_daDtkQ9qe",
        "outputId": "e0f26e48-5da0-4383-eafb-ca4e60eeba7e"
      },
      "execution_count": 17,
      "outputs": [
        {
          "output_type": "execute_result",
          "data": {
            "text/plain": [
              "array([1.9170892 , 0.5136476 , 0.3031539 , 0.28579518, 0.2686086 ,\n",
              "       0.25138757, 0.23416652, 0.21697973, 0.19975889, 0.18253785,\n",
              "       0.16534983, 0.14813016, 0.13090914, 0.11371988, 0.09650113,\n",
              "       0.07927983, 0.06208942, 0.04487172, 0.02765426, 0.01862402],\n",
              "      dtype=float32)"
            ]
          },
          "metadata": {},
          "execution_count": 17
        }
      ]
    },
    {
      "cell_type": "code",
      "source": [],
      "metadata": {
        "id": "NjMoAsmdQ9s9"
      },
      "execution_count": 17,
      "outputs": []
    },
    {
      "cell_type": "code",
      "source": [
        "with torch.inference_mode():\n",
        "  y_pred_new = model_0(X_test)"
      ],
      "metadata": {
        "id": "sJIx6jLmcn5p"
      },
      "execution_count": 18,
      "outputs": []
    },
    {
      "cell_type": "code",
      "source": [
        "plot_predictions(predictions = y_pred_new)"
      ],
      "metadata": {
        "colab": {
          "base_uri": "https://localhost:8080/",
          "height": 603
        },
        "id": "KPtHHDzQevjU",
        "outputId": "f9377d29-be97-4f62-b0eb-931918ad5b7e"
      },
      "execution_count": 19,
      "outputs": [
        {
          "output_type": "display_data",
          "data": {
            "text/plain": [
              "<Figure size 1000x700 with 1 Axes>"
            ],
            "image/png": "[encoded data removed]"
          },
          "metadata": {}
        }
      ]
    },
    {
      "cell_type": "code",
      "source": [
        "#Saving model\n",
        "from pathlib import Path\n",
        "\n",
        "MODEL_PATH = Path(\"models\")\n",
        "MODEL_PATH.mkdir(parents = True, exist_ok = True)\n",
        "MODEL_NAME =\"Pytorch_workflow_model.pth\"\n",
        "MODEL_SAVE_PATH = MODEL_PATH / MODEL_NAME\n",
        "MODEL_SAVE_PATH"
      ],
      "metadata": {
        "colab": {
          "base_uri": "https://localhost:8080/"
        },
        "id": "VW_pEF5Zezd6",
        "outputId": "7a38d6c2-3e94-4973-c7b3-7d2627758747"
      },
      "execution_count": 20,
      "outputs": [
        {
          "output_type": "execute_result",
          "data": {
            "text/plain": [
              "PosixPath('models/Pytorch_workflow_model.pth')"
            ]
          },
          "metadata": {},
          "execution_count": 20
        }
      ]
    },
    {
      "cell_type": "code",
      "source": [
        "torch.save(obj = model_0.state_dict(),\n",
        "           f=MODEL_SAVE_PATH)"
      ],
      "metadata": {
        "id": "saAtoKjLUaTV"
      },
      "execution_count": 21,
      "outputs": []
    },
    {
      "cell_type": "code",
      "source": [
        "loaded_model_0 = LinearRegressionModel()"
      ],
      "metadata": {
        "id": "cMvqGdYTeJ5B"
      },
      "execution_count": 22,
      "outputs": []
    },
    {
      "cell_type": "code",
      "source": [
        "loaded_model_0.load_state_dict(torch.load(f = MODEL_SAVE_PATH))"
      ],
      "metadata": {
        "colab": {
          "base_uri": "https://localhost:8080/"
        },
        "id": "-iWAfOmVeKAR",
        "outputId": "3f5e5309-9bb4-4919-e3dd-8117569e9bfb"
      },
      "execution_count": 23,
      "outputs": [
        {
          "output_type": "execute_result",
          "data": {
            "text/plain": [
              "<All keys matched successfully>"
            ]
          },
          "metadata": {},
          "execution_count": 23
        }
      ]
    },
    {
      "cell_type": "code",
      "source": [
        "loaded_model_0.state_dict()"
      ],
      "metadata": {
        "colab": {
          "base_uri": "https://localhost:8080/"
        },
        "id": "b9uzDBoEfkZb",
        "outputId": "bc73ef71-cc8f-44e7-d818-5e5515d3a19b"
      },
      "execution_count": 24,
      "outputs": [
        {
          "output_type": "execute_result",
          "data": {
            "text/plain": [
              "OrderedDict([('weights', tensor([0.6091])), ('bias', tensor([1.3631]))])"
            ]
          },
          "metadata": {},
          "execution_count": 24
        }
      ]
    },
    {
      "cell_type": "code",
      "source": [
        "loaded_model_0.eval()\n",
        "with torch.inference_mode():\n",
        "  loaded_model_preds = loaded_model_0(X_test)\n",
        "\n",
        "loaded_model_preds"
      ],
      "metadata": {
        "colab": {
          "base_uri": "https://localhost:8080/"
        },
        "id": "mjaK3Axufnh4",
        "outputId": "704e7528-757a-4c49-93a2-85dbc72c9426"
      },
      "execution_count": 26,
      "outputs": [
        {
          "output_type": "execute_result",
          "data": {
            "text/plain": [
              "tensor([[3.8987],\n",
              "        [3.9334],\n",
              "        [3.9681],\n",
              "        [4.0028],\n",
              "        [4.0376],\n",
              "        [4.0723],\n",
              "        [4.1070],\n",
              "        [4.1417],\n",
              "        [4.1764],\n",
              "        [4.2111],\n",
              "        [4.2459],\n",
              "        [4.2806],\n",
              "        [4.3153],\n",
              "        [4.3500],\n",
              "        [4.3847]])"
            ]
          },
          "metadata": {},
          "execution_count": 26
        }
      ]
    },
    {
      "cell_type": "code",
      "source": [],
      "metadata": {
        "id": "lxGjKIX9gL0a"
      },
      "execution_count": null,
      "outputs": []
    }
  ]
}