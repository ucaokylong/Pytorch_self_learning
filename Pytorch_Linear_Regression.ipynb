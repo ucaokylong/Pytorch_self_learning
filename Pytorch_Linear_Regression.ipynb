{
  "nbformat": 4,
  "nbformat_minor": 0,
  "metadata": {
    "colab": {
      "provenance": [],
      "gpuType": "T4",
      "toc_visible": true,
      "authorship_tag": "ABX9TyPX+FNY/Uy0J/LxqMJYRr4f",
      "include_colab_link": true
    },
    "kernelspec": {
      "name": "python3",
      "display_name": "Python 3"
    },
    "language_info": {
      "name": "python"
    },
    "accelerator": "GPU"
  },
  "cells": [
    {
      "cell_type": "markdown",
      "metadata": {
        "id": "view-in-github",
        "colab_type": "text"
      },
      "source": [
        "<a href=\"https://colab.research.google.com/github/ucaokylong/Pytorch_self_learning/blob/main/Pytorch_Linear_Regression.ipynb\" target=\"_parent\"><img src=\"https://colab.research.google.com/assets/colab-badge.svg\" alt=\"Open In Colab\"/></a>"
      ]
    },
    {
      "cell_type": "code",
      "execution_count": null,
      "metadata": {
        "colab": {
          "base_uri": "https://localhost:8080/"
        },
        "id": "BBenmqYc6cJa",
        "outputId": "26bcb92f-d75c-4642-d4c5-4d905ed5be9d"
      },
      "outputs": [
        {
          "output_type": "execute_result",
          "data": {
            "text/plain": [
              "{1: 'data (prepare and load)',\n",
              " 2: 'build model',\n",
              " 3: 'fitting the model to data (training)',\n",
              " 4: 'making predictions and evaluating a model (inference)',\n",
              " 5: 'saving and loading a model',\n",
              " 6: 'putting it all together'}"
            ]
          },
          "metadata": {},
          "execution_count": 1
        }
      ],
      "source": [
        "what_were_covering = {1: \"data (prepare and load)\",\n",
        "                      2: \"build model\",\n",
        "                      3:\"fitting the model to data (training)\",\n",
        "                      4: \"making predictions and evaluating a model (inference)\",\n",
        "                      5: \"saving and loading a model\",\n",
        "                      6: \"putting it all together\"\n",
        "                      }\n",
        "\n",
        "\n",
        "what_were_covering"
      ]
    },
    {
      "cell_type": "markdown",
      "source": [],
      "metadata": {
        "id": "V-1_hzqY8SzP"
      }
    },
    {
      "cell_type": "code",
      "source": [
        "import torch\n",
        "import torch.nn as nn #all of Pytorch's building blocks for neuron network\n",
        "import matplotlib.pyplot as plt \n",
        "\n",
        "torch.__version__"
      ],
      "metadata": {
        "colab": {
          "base_uri": "https://localhost:8080/",
          "height": 36
        },
        "id": "X0nmONch8O2g",
        "outputId": "e7513e54-c315-44f1-de99-b78d2cc3afcf"
      },
      "execution_count": null,
      "outputs": [
        {
          "output_type": "execute_result",
          "data": {
            "text/plain": [
              "'2.0.1+cu118'"
            ],
            "application/vnd.google.colaboratory.intrinsic+json": {
              "type": "string"
            }
          },
          "metadata": {},
          "execution_count": 1
        }
      ]
    },
    {
      "cell_type": "code",
      "source": [
        "device = \"cuda\" if torch.cuda.is_available() else \"cpu\""
      ],
      "metadata": {
        "id": "eZLa0CYN8V-X"
      },
      "execution_count": null,
      "outputs": []
    },
    {
      "cell_type": "markdown",
      "source": [
        "# Data (preparing and loading)\n",
        "\n",
        "Data can be almost anything... in machine learning.\n",
        "\n",
        "* Excel spreadsheet\n",
        "* Images of any kind\n",
        "* Video\n",
        "* Audio like songs or podcasts or sound\n",
        "* DNA\n",
        "* Text\n",
        "\n",
        "Two parts are important in Machine Learning:\n",
        "1. Get data into a numerical representation.\n",
        "2. Build a model to learn patterns in that numerical representation."
      ],
      "metadata": {
        "id": "WsDq4_VF-ww-"
      }
    },
    {
      "cell_type": "code",
      "source": [
        "#Create *known* parameters\n",
        "\n",
        "weight = 0.6 \n",
        "bias = 1.4\n",
        "\n",
        "#Create\n",
        "start = 0.8\n",
        "end = 5\n",
        "step = 0.057\n",
        "X = torch.arange(start, end ,step).unsqueeze(dim=1)\n",
        "y = weight * X + bias\n",
        "X[:10], y[:10], len(X), len(y)"
      ],
      "metadata": {
        "colab": {
          "base_uri": "https://localhost:8080/"
        },
        "id": "kRPwqHaO-xtu",
        "outputId": "36e55ec6-af92-4bbf-aa45-e047bdc2064a"
      },
      "execution_count": null,
      "outputs": [
        {
          "output_type": "execute_result",
          "data": {
            "text/plain": [
              "(tensor([[0.8000],\n",
              "         [0.8570],\n",
              "         [0.9140],\n",
              "         [0.9710],\n",
              "         [1.0280],\n",
              "         [1.0850],\n",
              "         [1.1420],\n",
              "         [1.1990],\n",
              "         [1.2560],\n",
              "         [1.3130]]),\n",
              " tensor([[1.8800],\n",
              "         [1.9142],\n",
              "         [1.9484],\n",
              "         [1.9826],\n",
              "         [2.0168],\n",
              "         [2.0510],\n",
              "         [2.0852],\n",
              "         [2.1194],\n",
              "         [2.1536],\n",
              "         [2.1878]]),\n",
              " 74,\n",
              " 74)"
            ]
          },
          "metadata": {},
          "execution_count": 3
        }
      ]
    },
    {
      "cell_type": "code",
      "source": [
        "#Create a train/test split\n",
        "train_split = int(0.8 * len(X))\n",
        "X_train, y_train = X[: train_split], y[:train_split]\n",
        "X_test, y_test = X[train_split:], y[train_split:]\n",
        "len(X_test)"
      ],
      "metadata": {
        "id": "reQZ7iXeLM8S",
        "colab": {
          "base_uri": "https://localhost:8080/"
        },
        "outputId": "bd91b823-2fc3-4698-beee-03305b33a9c5"
      },
      "execution_count": null,
      "outputs": [
        {
          "output_type": "execute_result",
          "data": {
            "text/plain": [
              "15"
            ]
          },
          "metadata": {},
          "execution_count": 4
        }
      ]
    },
    {
      "cell_type": "code",
      "source": [
        "def plot_predictions(train_data = X_train,\n",
        "                     train_labels = y_train,\n",
        "                     test_data = X_test,\n",
        "                     test_labels = y_test,\n",
        "                     predictions = None):\n",
        "  \n",
        "  plt.figure(figsize = (10,7))\n",
        "\n",
        "  #plot training data in blue\n",
        "  plt.scatter(train_data, train_labels, c=\"b\", s =4, label = \"Training data\")\n",
        "\n",
        "  plt.scatter(test_data, test_labels, c= \"g\", s =4, label =\"Testing data\")\n",
        "  \n",
        "  if predictions is not None:\n",
        "    plt.scatter(test_data, predictions, c='r', s =4, label = \"Predictions\")\n",
        "\n",
        "    plt.legend(prop ={\"size\": 14} );"
      ],
      "metadata": {
        "id": "TjqNH1cCVQme"
      },
      "execution_count": null,
      "outputs": []
    },
    {
      "cell_type": "code",
      "source": [
        "plot_predictions(X_train, y_train, X_test, y_test)"
      ],
      "metadata": {
        "colab": {
          "base_uri": "https://localhost:8080/",
          "height": 604
        },
        "id": "okcmE6myvWup",
        "outputId": "96300408-1f28-4784-f95d-23956405d080"
      },
      "execution_count": null,
      "outputs": [
        {
          "output_type": "display_data",
          "data": {
            "text/plain": [
              "<Figure size 1000x700 with 1 Axes>"
            ],
            "image/png": "[encoded data removed]"
          },
          "metadata": {}
        }
      ]
    },
    {
      "cell_type": "markdown",
      "source": [
        "# ***BUILD MODEL***\n",
        "First Pytorch model"
      ],
      "metadata": {
        "id": "13WEX1ikqBmW"
      }
    },
    {
      "cell_type": "code",
      "source": [
        "# Create Linear regression model class\n",
        "class LinearRegressionModel(nn.Module):\n",
        "  def __init__(self):\n",
        "    super().__init__()\n",
        "    self.weights = nn.Parameter(torch.randn(1,\n",
        "                                            requires_grad=True,\n",
        "                                            dtype=torch.float))\n",
        "    self.bias = nn.Parameter(torch.randn(1,\n",
        "                                         requires_grad=True,\n",
        "                                         dtype=torch.float))\n",
        "    \n",
        "    #Forward method to define the computation in the model\n",
        "\n",
        "  def forward(self, x:torch.Tensor) -> torch.Tensor:\n",
        "    return self.weights * x + self.bias"
      ],
      "metadata": {
        "id": "YrJvzi35qTGH"
      },
      "execution_count": 7,
      "outputs": []
    },
    {
      "cell_type": "code",
      "source": [
        "torch.manual_seed(42)\n",
        "model_0 = LinearRegressionModel()\n",
        "list(model_0.parameters())"
      ],
      "metadata": {
        "colab": {
          "base_uri": "https://localhost:8080/"
        },
        "id": "dvHgD_OtFfgo",
        "outputId": "3553a689-9ec1-4129-8fea-45939d6f340b"
      },
      "execution_count": 8,
      "outputs": [
        {
          "output_type": "execute_result",
          "data": {
            "text/plain": [
              "[Parameter containing:\n",
              " tensor([0.3367], requires_grad=True),\n",
              " Parameter containing:\n",
              " tensor([0.1288], requires_grad=True)]"
            ]
          },
          "metadata": {},
          "execution_count": 8
        }
      ]
    },
    {
      "cell_type": "code",
      "source": [
        "model_0.to(device)"
      ],
      "metadata": {
        "colab": {
          "base_uri": "https://localhost:8080/"
        },
        "id": "OSn9_15tJX_s",
        "outputId": "501aec53-e8c6-484a-c905-1e1726fc4da4"
      },
      "execution_count": 9,
      "outputs": [
        {
          "output_type": "execute_result",
          "data": {
            "text/plain": [
              "LinearRegressionModel()"
            ]
          },
          "metadata": {},
          "execution_count": 9
        }
      ]
    },
    {
      "cell_type": "code",
      "source": [
        "#List named parameters\n",
        "model_0.state_dict()"
      ],
      "metadata": {
        "colab": {
          "base_uri": "https://localhost:8080/"
        },
        "id": "AiKCt_aDTlD3",
        "outputId": "3d049f44-7817-4e88-bdd8-b1c25afc9ab1"
      },
      "execution_count": 10,
      "outputs": [
        {
          "output_type": "execute_result",
          "data": {
            "text/plain": [
              "OrderedDict([('weights', tensor([0.3367], device='cuda:0')),\n",
              "             ('bias', tensor([0.1288], device='cuda:0'))])"
            ]
          },
          "metadata": {},
          "execution_count": 10
        }
      ]
    },
    {
      "cell_type": "code",
      "source": [
        "##Making prediction using `torch.inference_mode()`\n",
        "\n",
        "with torch.inference_mode():\n",
        "  X_test = X_test.to(device)\n",
        "  y_preds = model_0(X_test)\n",
        "\n",
        "y_preds\n",
        "y_preds = y_preds.cpu().numpy()"
      ],
      "metadata": {
        "id": "SvBYpPtIVGEG"
      },
      "execution_count": 26,
      "outputs": []
    },
    {
      "cell_type": "code",
      "source": [
        "\n",
        "\n",
        "plot_predictions(predictions = y_preds)"
      ],
      "metadata": {
        "colab": {
          "base_uri": "https://localhost:8080/",
          "height": 601
        },
        "id": "d7dCc2aFWi14",
        "outputId": "1f37fe50-3c6a-4049-ccb5-6da176a0efd4"
      },
      "execution_count": 27,
      "outputs": [
        {
          "output_type": "display_data",
          "data": {
            "text/plain": [
              "<Figure size 1000x700 with 1 Axes>"
            ],
            "image/png": "[encoded data removed]"
          },
          "metadata": {}
        }
      ]
    },
    {
      "cell_type": "code",
      "source": [
        "list(model_0.parameters())"
      ],
      "metadata": {
        "id": "UFNJ0QA8ZMlm",
        "colab": {
          "base_uri": "https://localhost:8080/"
        },
        "outputId": "9325f539-f6fd-443a-831f-5ef546a63ece"
      },
      "execution_count": 28,
      "outputs": [
        {
          "output_type": "execute_result",
          "data": {
            "text/plain": [
              "[Parameter containing:\n",
              " tensor([0.3367], device='cuda:0', requires_grad=True),\n",
              " Parameter containing:\n",
              " tensor([0.1288], device='cuda:0', requires_grad=True)]"
            ]
          },
          "metadata": {},
          "execution_count": 28
        }
      ]
    },
    {
      "cell_type": "code",
      "source": [
        "#Setup a loss function\n",
        "loss_fn = nn.L1Loss() \n",
        "\n",
        "#Setup an optimizer function\n",
        "optimizer = torch.optim.SGD(params = model_0.parameters(),\n",
        "                            lr = 0.01 )"
      ],
      "metadata": {
        "id": "VLsLrlW-GKqR"
      },
      "execution_count": 29,
      "outputs": []
    },
    {
      "cell_type": "code",
      "source": [
        "list(model_0.eval().parameters())"
      ],
      "metadata": {
        "colab": {
          "base_uri": "https://localhost:8080/"
        },
        "id": "kg8gOUbpQD8L",
        "outputId": "d28c3fe0-a778-4602-fc4f-c8451dc4cf70"
      },
      "execution_count": 30,
      "outputs": [
        {
          "output_type": "execute_result",
          "data": {
            "text/plain": [
              "[Parameter containing:\n",
              " tensor([0.3367], device='cuda:0', requires_grad=True),\n",
              " Parameter containing:\n",
              " tensor([0.1288], device='cuda:0', requires_grad=True)]"
            ]
          },
          "metadata": {},
          "execution_count": 30
        }
      ]
    },
    {
      "cell_type": "markdown",
      "source": [
        "#Building a training loop in PyTorch\n"
      ],
      "metadata": {
        "id": "8cjRO19BNGk0"
      }
    },
    {
      "cell_type": "code",
      "source": [
        "epochs =400\n",
        "epoch_count = []\n",
        "loss_values = []\n",
        "test_loss_values =[]\n",
        "\n",
        "X_train = X_train.to(device)\n",
        "y_train = y_train.to(device)\n",
        "X_test = X_test.to(device)\n",
        "y_test = y_test.to(device)\n",
        "\n",
        "\n",
        "for epoch in range(epochs):\n",
        "\n",
        "  #Training mode\n",
        "  model_0.train()\n",
        "\n",
        "  #1. Forward pass\n",
        "  y_pred = model_0(X_train)\n",
        "\n",
        "  #2. Calculate the loss\n",
        "  loss = loss_fn(y_pred, y_train)\n",
        "\n",
        "  #3. Optimizer zero grad\n",
        "  optimizer.zero_grad()\n",
        "\n",
        "  #4. Backpropagation\n",
        "  loss.backward()\n",
        "\n",
        "  #5. Step the optimizer\n",
        "  optimizer.step()\n",
        "  #model_0.eval()\n",
        "\n",
        "  #Testing\n",
        "  model_0.eval()\n",
        "  with torch.inference_mode():\n",
        "    test_pred = model_0(X_test)\n",
        "    test_loss = loss_fn(test_pred, y_test)\n",
        "\n",
        "  if epoch % 20 ==0:\n",
        "    epoch_count.append(epoch)\n",
        "    loss_values.append(loss)\n",
        "    test_loss_values.append(test_loss)\n",
        "    if epoch % 50 ==0:\n",
        "      print(f\"Epoch: {epoch} | Loss: {loss}  |  Test loss: {test_loss}\")\n",
        "model_0.state_dict()"
      ],
      "metadata": {
        "colab": {
          "base_uri": "https://localhost:8080/"
        },
        "id": "N-rXG9C5QBXH",
        "outputId": "ae2e5023-7325-4a52-b2db-fc2787720365"
      },
      "execution_count": 35,
      "outputs": [
        {
          "output_type": "stream",
          "name": "stdout",
          "text": [
            "Epoch: 0 | Loss: 0.015397241339087486  |  Test loss: 0.1244557797908783\n",
            "Epoch: 100 | Loss: 0.015397241339087486  |  Test loss: 0.1244557797908783\n",
            "Epoch: 200 | Loss: 0.015397241339087486  |  Test loss: 0.1244557797908783\n",
            "Epoch: 300 | Loss: 0.015397241339087486  |  Test loss: 0.1244557797908783\n"
          ]
        },
        {
          "output_type": "execute_result",
          "data": {
            "text/plain": [
              "OrderedDict([('weights', tensor([0.6085], device='cuda:0')),\n",
              "             ('bias', tensor([1.3637], device='cuda:0'))])"
            ]
          },
          "metadata": {},
          "execution_count": 35
        }
      ]
    },
    {
      "cell_type": "code",
      "source": [
        "model_0.state_dict()"
      ],
      "metadata": {
        "colab": {
          "base_uri": "https://localhost:8080/"
        },
        "id": "a0uWlhrVclrL",
        "outputId": "9a1df696-78a6-416c-f7e4-f4812f1d03fe"
      },
      "execution_count": 36,
      "outputs": [
        {
          "output_type": "execute_result",
          "data": {
            "text/plain": [
              "OrderedDict([('weights', tensor([0.6085], device='cuda:0')),\n",
              "             ('bias', tensor([1.3637], device='cuda:0'))])"
            ]
          },
          "metadata": {},
          "execution_count": 36
        }
      ]
    },
    {
      "cell_type": "code",
      "source": [
        "import numpy as np\n",
        "np.array(torch.tensor(loss_values).numpy())"
      ],
      "metadata": {
        "colab": {
          "base_uri": "https://localhost:8080/"
        },
        "id": "Gp_daDtkQ9qe",
        "outputId": "48213b93-ae64-41cd-dff0-01256dab4477"
      },
      "execution_count": 37,
      "outputs": [
        {
          "output_type": "execute_result",
          "data": {
            "text/plain": [
              "array([0.01539724, 0.01539724, 0.01539724, 0.01539724, 0.01539724,\n",
              "       0.01539724, 0.01539724, 0.01539724, 0.01539724, 0.01539724,\n",
              "       0.01539724, 0.01539724, 0.01539724, 0.01539724, 0.01539724,\n",
              "       0.01539724, 0.01539724, 0.01539724, 0.01539724, 0.01539724],\n",
              "      dtype=float32)"
            ]
          },
          "metadata": {},
          "execution_count": 37
        }
      ]
    },
    {
      "cell_type": "code",
      "source": [],
      "metadata": {
        "id": "NjMoAsmdQ9s9"
      },
      "execution_count": null,
      "outputs": []
    },
    {
      "cell_type": "code",
      "source": [
        "with torch.inference_mode():\n",
        "  y_pred_new = model_0(X_test)\n",
        "\n",
        "\n",
        "y_pred_new = y_pred_new.cpu().numpy()"
      ],
      "metadata": {
        "id": "sJIx6jLmcn5p"
      },
      "execution_count": 40,
      "outputs": []
    },
    {
      "cell_type": "code",
      "source": [
        "plot_predictions(predictions = y_pred_new)"
      ],
      "metadata": {
        "colab": {
          "base_uri": "https://localhost:8080/",
          "height": 603
        },
        "id": "KPtHHDzQevjU",
        "outputId": "8929874a-0ef7-4f25-f203-a3555490831c"
      },
      "execution_count": 41,
      "outputs": [
        {
          "output_type": "display_data",
          "data": {
            "text/plain": [
              "<Figure size 1000x700 with 1 Axes>"
            ],
            "image/png": "[encoded data removed]"
          },
          "metadata": {}
        }
      ]
    },
    {
      "cell_type": "code",
      "source": [
        "#Saving model\n",
        "from pathlib import Path\n",
        "\n",
        "MODEL_PATH = Path(\"models\")\n",
        "MODEL_PATH.mkdir(parents = True, exist_ok = True)\n",
        "MODEL_NAME =\"Pytorch_workflow_model.pth\"\n",
        "MODEL_SAVE_PATH = MODEL_PATH / MODEL_NAME\n",
        "MODEL_SAVE_PATH"
      ],
      "metadata": {
        "colab": {
          "base_uri": "https://localhost:8080/"
        },
        "id": "VW_pEF5Zezd6",
        "outputId": "9b0837bf-219c-4ff5-d6e0-fc9e8e9dac1c"
      },
      "execution_count": 42,
      "outputs": [
        {
          "output_type": "execute_result",
          "data": {
            "text/plain": [
              "PosixPath('models/Pytorch_workflow_model.pth')"
            ]
          },
          "metadata": {},
          "execution_count": 42
        }
      ]
    },
    {
      "cell_type": "code",
      "source": [
        "torch.save(obj = model_0.state_dict(),\n",
        "           f=MODEL_SAVE_PATH)"
      ],
      "metadata": {
        "id": "saAtoKjLUaTV"
      },
      "execution_count": 43,
      "outputs": []
    },
    {
      "cell_type": "code",
      "source": [
        "loaded_model_0 = LinearRegressionModel()"
      ],
      "metadata": {
        "id": "cMvqGdYTeJ5B"
      },
      "execution_count": 44,
      "outputs": []
    },
    {
      "cell_type": "code",
      "source": [
        "loaded_model_0.load_state_dict(torch.load(f = MODEL_SAVE_PATH))"
      ],
      "metadata": {
        "colab": {
          "base_uri": "https://localhost:8080/"
        },
        "id": "-iWAfOmVeKAR",
        "outputId": "6c9fec59-65ae-4772-f151-7fa573135598"
      },
      "execution_count": 45,
      "outputs": [
        {
          "output_type": "execute_result",
          "data": {
            "text/plain": [
              "<All keys matched successfully>"
            ]
          },
          "metadata": {},
          "execution_count": 45
        }
      ]
    },
    {
      "cell_type": "code",
      "source": [
        "loaded_model_0.state_dict()"
      ],
      "metadata": {
        "colab": {
          "base_uri": "https://localhost:8080/"
        },
        "id": "b9uzDBoEfkZb",
        "outputId": "579f1c65-5c7e-4298-bca6-eb8be8ddf885"
      },
      "execution_count": 50,
      "outputs": [
        {
          "output_type": "execute_result",
          "data": {
            "text/plain": [
              "OrderedDict([('weights', tensor([0.6085])), ('bias', tensor([1.3637]))])"
            ]
          },
          "metadata": {},
          "execution_count": 50
        }
      ]
    },
    {
      "cell_type": "code",
      "source": [],
      "metadata": {
        "id": "lxGjKIX9gL0a"
      },
      "execution_count": null,
      "outputs": []
    }
  ]
}