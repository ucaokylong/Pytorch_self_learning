{
  "nbformat": 4,
  "nbformat_minor": 0,
  "metadata": {
    "colab": {
      "provenance": [],
      "gpuType": "T4",
      "authorship_tag": "ABX9TyPNvaco6kwYMhAm/r7n+bMN",
      "include_colab_link": true
    },
    "kernelspec": {
      "name": "python3",
      "display_name": "Python 3"
    },
    "language_info": {
      "name": "python"
    },
    "accelerator": "GPU",
    "gpuClass": "standard"
  },
  "cells": [
    {
      "cell_type": "markdown",
      "metadata": {
        "id": "view-in-github",
        "colab_type": "text"
      },
      "source": [
        "<a href=\"https://colab.research.google.com/github/ucaokylong/Pytorch_self_learning/blob/main/Pytorch_Tensor.ipynb\" target=\"_parent\"><img src=\"https://colab.research.google.com/assets/colab-badge.svg\" alt=\"Open In Colab\"/></a>"
      ]
    },
    {
      "cell_type": "markdown",
      "source": [
        "# What is Pytorch and what can Pytorch be used for?\n",
        "PyTorch is an open source machine learning and deep learning framework and allows us to manipulate and process data and write machine learning algorithms using Python code.\n",
        "\n"
      ],
      "metadata": {
        "id": "AatHr8RC7jIx"
      }
    },
    {
      "cell_type": "code",
      "execution_count": null,
      "metadata": {
        "colab": {
          "base_uri": "https://localhost:8080/",
          "height": 36
        },
        "id": "pfh2qpdV7LLT",
        "outputId": "03a235da-c1fe-432e-8c4a-6172229ca06b"
      },
      "outputs": [
        {
          "output_type": "execute_result",
          "data": {
            "text/plain": [
              "'2.0.0+cu118'"
            ],
            "application/vnd.google.colaboratory.intrinsic+json": {
              "type": "string"
            }
          },
          "metadata": {},
          "execution_count": 1
        }
      ],
      "source": [
        "#import torch\n",
        "import torch\n",
        "torch.__version__"
      ]
    },
    {
      "cell_type": "markdown",
      "source": [
        "# Introduction to tensors\n",
        "\n",
        "\n",
        "\n",
        "\n",
        "*   Creating tensors\n",
        "\n",
        "\n"
      ],
      "metadata": {
        "id": "xK7oFdMQ8btL"
      }
    },
    {
      "cell_type": "markdown",
      "source": [
        "**SCALAR**"
      ],
      "metadata": {
        "id": "7jk8rWni-HjK"
      }
    },
    {
      "cell_type": "code",
      "source": [
        "#Scalar\n",
        "scalar = torch.tensor(8)\n",
        "scalar\n",
        "\n",
        "#Check dimension\n",
        "scalar.ndim\n",
        "\n",
        "#Retrieve the number from the tensor\n",
        "scalar.item()\n",
        "\n"
      ],
      "metadata": {
        "colab": {
          "base_uri": "https://localhost:8080/"
        },
        "id": "-sTWvHp_8DkY",
        "outputId": "847c1a14-2bd1-42c2-c131-e8f1ec88384f"
      },
      "execution_count": null,
      "outputs": [
        {
          "output_type": "execute_result",
          "data": {
            "text/plain": [
              "0"
            ]
          },
          "metadata": {},
          "execution_count": 3
        }
      ]
    },
    {
      "cell_type": "markdown",
      "source": [
        "**VECTOR**"
      ],
      "metadata": {
        "id": "GEtdOxei-KuZ"
      }
    },
    {
      "cell_type": "code",
      "source": [
        "#Vector\n",
        "vector = torch.tensor([7,7])\n",
        "vector\n",
        "\n",
        "#Check the number of dimensions of vector\n",
        "vector.ndim\n",
        "\n",
        "#Check shape of vector\n",
        "vector.shape"
      ],
      "metadata": {
        "colab": {
          "base_uri": "https://localhost:8080/"
        },
        "id": "ALkiA_hO9MZ-",
        "outputId": "de4e6286-f5f4-4a36-b9fd-1596aca55b74"
      },
      "execution_count": null,
      "outputs": [
        {
          "output_type": "execute_result",
          "data": {
            "text/plain": [
              "torch.Size([2])"
            ]
          },
          "metadata": {},
          "execution_count": 8
        }
      ]
    },
    {
      "cell_type": "markdown",
      "source": [
        "**MATRIX**"
      ],
      "metadata": {
        "id": "zdSYeKab-Na5"
      }
    },
    {
      "cell_type": "code",
      "source": [
        "MATRIX = torch.tensor([[4,5],\n",
        "                       [6,7]])\n",
        "MATRIX\n",
        "\n",
        "#Check number of dimensions\n",
        "MATRIX.ndim\n",
        "\n",
        "#Check shape of matrix\n",
        "MATRIX.shape"
      ],
      "metadata": {
        "colab": {
          "base_uri": "https://localhost:8080/"
        },
        "id": "JuqCcN109ys-",
        "outputId": "66f9c45b-9ad8-42a6-a8f6-e0f2e18b3ec5"
      },
      "execution_count": null,
      "outputs": [
        {
          "output_type": "execute_result",
          "data": {
            "text/plain": [
              "torch.Size([2, 2])"
            ]
          },
          "metadata": {},
          "execution_count": 7
        }
      ]
    },
    {
      "cell_type": "markdown",
      "source": [
        "**TENSOR**"
      ],
      "metadata": {
        "id": "NqSJuOlG-sVj"
      }
    },
    {
      "cell_type": "code",
      "source": [
        "#Create Tensor\n",
        "TENSOR = torch.tensor([[[10,11,12],\n",
        "                        [13,14,15],\n",
        "                        [16,17,18]]])\n",
        "TENSOR\n",
        "\n",
        "# Check number of dimensions for TENSOR\n",
        "TENSOR.ndim\n",
        "\n",
        "# Check shape of TENSOR\n",
        "TENSOR.shape"
      ],
      "metadata": {
        "colab": {
          "base_uri": "https://localhost:8080/"
        },
        "id": "b_FwMcsI-t4q",
        "outputId": "0ddd8b2a-ed27-4585-beaa-145a994b0e1d"
      },
      "execution_count": null,
      "outputs": [
        {
          "output_type": "execute_result",
          "data": {
            "text/plain": [
              "torch.Size([1, 3, 3])"
            ]
          },
          "metadata": {},
          "execution_count": 9
        }
      ]
    },
    {
      "cell_type": "markdown",
      "source": [
        "![image.png](data:image/png;base64,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)"
      ],
      "metadata": {
        "id": "mMSq-oCs_NB4"
      }
    },
    {
      "cell_type": "markdown",
      "source": [
        "**TENSOR DATATYPES**"
      ],
      "metadata": {
        "id": "Os2mIlpf_egB"
      }
    },
    {
      "cell_type": "code",
      "source": [
        "# Default datatype for tensors is float32\n",
        "float_32_tensor = torch.tensor([3.0, 6.0, 9.0],\n",
        "                               dtype=None, # defaults to None, which is torch.float32 or whatever datatype is passed\n",
        "                               device=None, # defaults to None, which uses the default tensor type\n",
        "                               requires_grad=False) # if True, operations performed on the tensor are recorded \n",
        "\n",
        "float_32_tensor.shape, float_32_tensor.dtype, float_32_tensor.device"
      ],
      "metadata": {
        "colab": {
          "base_uri": "https://localhost:8080/"
        },
        "id": "88D3oeAm_OT6",
        "outputId": "ffca8c2f-9a9f-451b-f6e5-0bb7aade13d8"
      },
      "execution_count": null,
      "outputs": [
        {
          "output_type": "execute_result",
          "data": {
            "text/plain": [
              "(torch.Size([3]), torch.float32, device(type='cpu'))"
            ]
          },
          "metadata": {},
          "execution_count": 12
        }
      ]
    },
    {
      "cell_type": "code",
      "source": [
        "#create a tensor with dtype=torch.float16\n",
        "float_16_tensor = torch.tensor([3.0, 6.0, 9.0],\n",
        "                               dtype=torch.float16) # torch.half would also work\n",
        "\n",
        "float_16_tensor.dtype"
      ],
      "metadata": {
        "colab": {
          "base_uri": "https://localhost:8080/"
        },
        "id": "_LbikaYw_zQ0",
        "outputId": "c2a09bb6-8d98-4091-e62a-1888320a5192"
      },
      "execution_count": null,
      "outputs": [
        {
          "output_type": "execute_result",
          "data": {
            "text/plain": [
              "torch.float16"
            ]
          },
          "metadata": {},
          "execution_count": 13
        }
      ]
    },
    {
      "cell_type": "markdown",
      "source": [
        "\n",
        "**Getting information from tensors**"
      ],
      "metadata": {
        "id": "f--bK54c_-5Q"
      }
    },
    {
      "cell_type": "code",
      "source": [
        "# Create a tensor\n",
        "some_tensor = torch.rand(3, 4)\n",
        "\n",
        "# Find out details about it\n",
        "print(some_tensor)\n",
        "print(f\"Shape of tensor: {some_tensor.shape}\")\n",
        "print(f\"Datatype of tensor: {some_tensor.dtype}\")\n",
        "print(f\"Device tensor is stored on: {some_tensor.device}\") # will default to CPU"
      ],
      "metadata": {
        "colab": {
          "base_uri": "https://localhost:8080/"
        },
        "id": "aV843eALADMN",
        "outputId": "4580a478-cc85-43ec-b449-965268d9ae31"
      },
      "execution_count": null,
      "outputs": [
        {
          "output_type": "stream",
          "name": "stdout",
          "text": [
            "tensor([[0.2807, 0.9790, 0.6330, 0.8132],\n",
            "        [0.8831, 0.3642, 0.5956, 0.2991],\n",
            "        [0.2547, 0.0103, 0.2604, 0.9833]])\n",
            "Shape of tensor: torch.Size([3, 4])\n",
            "Datatype of tensor: torch.float32\n",
            "Device tensor is stored on: cpu\n"
          ]
        }
      ]
    },
    {
      "cell_type": "markdown",
      "source": [
        "**Manipulating tensors (tensor operations)**\n",
        "\n",
        "These operations are often a wonderful dance between:\n",
        "\n",
        "* Addition\n",
        "* Substraction\n",
        "* Multiplication (element-wise)\n",
        "* Division\n",
        "* Matrix multiplication"
      ],
      "metadata": {
        "id": "KWIpQwZlAM1p"
      }
    },
    {
      "cell_type": "code",
      "source": [
        "# Create a tensor of values and add a number to it\n",
        "tensor = torch.tensor([1, 2, 3])\n",
        "tensor + 10"
      ],
      "metadata": {
        "colab": {
          "base_uri": "https://localhost:8080/"
        },
        "id": "Nh1C03oPAQJi",
        "outputId": "40a5cf3c-471a-4ec4-f508-3f5d64ffcb4d"
      },
      "execution_count": null,
      "outputs": [
        {
          "output_type": "execute_result",
          "data": {
            "text/plain": [
              "tensor([11, 12, 13])"
            ]
          },
          "metadata": {},
          "execution_count": 15
        }
      ]
    },
    {
      "cell_type": "code",
      "source": [
        "# Multiply it by 10\n",
        "tensor * 10"
      ],
      "metadata": {
        "colab": {
          "base_uri": "https://localhost:8080/"
        },
        "id": "x86rt98MAkRL",
        "outputId": "f9e0e85c-57d8-4fd7-ab27-21c9e3ffd8bc"
      },
      "execution_count": null,
      "outputs": [
        {
          "output_type": "execute_result",
          "data": {
            "text/plain": [
              "tensor([10, 20, 30])"
            ]
          },
          "metadata": {},
          "execution_count": 16
        }
      ]
    },
    {
      "cell_type": "code",
      "source": [
        "# Tensors don't change unless reassigned\n",
        "tensor"
      ],
      "metadata": {
        "colab": {
          "base_uri": "https://localhost:8080/"
        },
        "id": "pvoxmmLDBC7i",
        "outputId": "51e036b3-11e2-4a08-93a8-28fccf14cbb0"
      },
      "execution_count": null,
      "outputs": [
        {
          "output_type": "execute_result",
          "data": {
            "text/plain": [
              "tensor([1, 2, 3])"
            ]
          },
          "metadata": {},
          "execution_count": 17
        }
      ]
    },
    {
      "cell_type": "code",
      "source": [
        "# Subtract and reassign\n",
        "tensor = tensor - 10\n",
        "tensor"
      ],
      "metadata": {
        "colab": {
          "base_uri": "https://localhost:8080/"
        },
        "id": "DiCAMnEdBHlZ",
        "outputId": "eef88b1f-1e1e-4393-b9a9-60dd73e9c888"
      },
      "execution_count": null,
      "outputs": [
        {
          "output_type": "execute_result",
          "data": {
            "text/plain": [
              "tensor([-9, -8, -7])"
            ]
          },
          "metadata": {},
          "execution_count": 18
        }
      ]
    },
    {
      "cell_type": "code",
      "source": [
        "# Add and reassign\n",
        "tensor = tensor + 10\n",
        "tensor"
      ],
      "metadata": {
        "colab": {
          "base_uri": "https://localhost:8080/"
        },
        "id": "SUnzSdjEBNTC",
        "outputId": "ef2a7f47-4f5e-4a3f-9f8a-223a93d038b5"
      },
      "execution_count": null,
      "outputs": [
        {
          "output_type": "execute_result",
          "data": {
            "text/plain": [
              "tensor([1, 2, 3])"
            ]
          },
          "metadata": {},
          "execution_count": 19
        }
      ]
    },
    {
      "cell_type": "code",
      "source": [
        "# Can also use torch functions\n",
        "torch.multiply(tensor, 10)"
      ],
      "metadata": {
        "colab": {
          "base_uri": "https://localhost:8080/"
        },
        "id": "zGflxV8CBS8q",
        "outputId": "6923f6f4-760f-470c-89c9-c6fc3577fb4d"
      },
      "execution_count": null,
      "outputs": [
        {
          "output_type": "execute_result",
          "data": {
            "text/plain": [
              "tensor([10, 20, 30])"
            ]
          },
          "metadata": {},
          "execution_count": 20
        }
      ]
    },
    {
      "cell_type": "code",
      "source": [
        "# Original tensor is still unchanged \n",
        "tensor"
      ],
      "metadata": {
        "colab": {
          "base_uri": "https://localhost:8080/"
        },
        "id": "4Na_xuJ2BknS",
        "outputId": "27229931-9345-45af-bc7d-25d1e6655d7a"
      },
      "execution_count": null,
      "outputs": [
        {
          "output_type": "execute_result",
          "data": {
            "text/plain": [
              "tensor([1, 2, 3])"
            ]
          },
          "metadata": {},
          "execution_count": 21
        }
      ]
    },
    {
      "cell_type": "code",
      "source": [
        "# Element-wise multiplication (each element multiplies its equivalent, index 0->0, 1->1, 2->2)\n",
        "print(tensor, \"*\", tensor)\n",
        "print(\"Equals:\", tensor * tensor)"
      ],
      "metadata": {
        "colab": {
          "base_uri": "https://localhost:8080/"
        },
        "id": "IyPaAkQsBkfQ",
        "outputId": "aec13e4c-a1af-4ff4-fd5d-06a73aaea75e"
      },
      "execution_count": null,
      "outputs": [
        {
          "output_type": "stream",
          "name": "stdout",
          "text": [
            "tensor([1, 2, 3]) * tensor([1, 2, 3])\n",
            "Equals: tensor([1, 4, 9])\n"
          ]
        }
      ]
    },
    {
      "cell_type": "markdown",
      "source": [
        "**Matrix multiplication**\n",
        "The main two rules for matrix multiplication to remember are:\n",
        "\n",
        "The inner dimensions must match:\n",
        "\n",
        "(3, 2) @ (3, 2) won't work\n",
        "\n",
        "(2, 3) @ (3, 2) will work\n",
        "\n",
        "(3, 2) @ (2, 3) will work\n",
        "\n",
        "\n",
        "---\n",
        "\n",
        "\n",
        "The resulting matrix has the shape of the outer dimensions:\n",
        "\n",
        "(2, 3) @ (3, 2) -> (2, 2)\n",
        "\n",
        "(3, 2) @ (2, 3) -> (3, 3)\n"
      ],
      "metadata": {
        "id": "3kNDjYD_Bsny"
      }
    },
    {
      "cell_type": "code",
      "source": [
        "import torch\n",
        "tensor = torch.tensor([1, 2, 3])\n",
        "tensor.shape"
      ],
      "metadata": {
        "colab": {
          "base_uri": "https://localhost:8080/"
        },
        "id": "u8q2mot0B-r3",
        "outputId": "212733ee-3de9-4602-beb5-b44721817df9"
      },
      "execution_count": null,
      "outputs": [
        {
          "output_type": "execute_result",
          "data": {
            "text/plain": [
              "torch.Size([3])"
            ]
          },
          "metadata": {},
          "execution_count": 23
        }
      ]
    },
    {
      "cell_type": "code",
      "source": [
        "# Element-wise matrix multiplication\n",
        "tensor * tensor"
      ],
      "metadata": {
        "colab": {
          "base_uri": "https://localhost:8080/"
        },
        "id": "kK4R0DtJCCoC",
        "outputId": "7086ed38-0313-4592-cb09-ecdc0bc568d0"
      },
      "execution_count": null,
      "outputs": [
        {
          "output_type": "execute_result",
          "data": {
            "text/plain": [
              "tensor([1, 4, 9])"
            ]
          },
          "metadata": {},
          "execution_count": 24
        }
      ]
    },
    {
      "cell_type": "code",
      "source": [
        "# Matrix multiplication\n",
        "torch.matmul(tensor, tensor)\n"
      ],
      "metadata": {
        "colab": {
          "base_uri": "https://localhost:8080/"
        },
        "id": "7hX3E5yGCCza",
        "outputId": "72993ab4-ca40-4b36-e1c2-e5aaaa14ccea"
      },
      "execution_count": null,
      "outputs": [
        {
          "output_type": "execute_result",
          "data": {
            "text/plain": [
              "tensor(14)"
            ]
          },
          "metadata": {},
          "execution_count": 25
        }
      ]
    },
    {
      "cell_type": "code",
      "source": [
        "# Can also use the \"@\" symbol for matrix multiplication, though not recommended\n",
        "tensor @ tensor"
      ],
      "metadata": {
        "colab": {
          "base_uri": "https://localhost:8080/"
        },
        "id": "Xk0cxrJeCH8a",
        "outputId": "7683a9ba-aa57-4252-fd14-41a83349b731"
      },
      "execution_count": null,
      "outputs": [
        {
          "output_type": "execute_result",
          "data": {
            "text/plain": [
              "tensor(14)"
            ]
          },
          "metadata": {},
          "execution_count": 26
        }
      ]
    },
    {
      "cell_type": "code",
      "source": [
        "%%time\n",
        "# Matrix multiplication by hand \n",
        "# (avoid doing operations with for loops at all cost, they are computationally expensive)\n",
        "value = 0\n",
        "for i in range(len(tensor)):\n",
        "  value += tensor[i] * tensor[i]\n",
        "value"
      ],
      "metadata": {
        "colab": {
          "base_uri": "https://localhost:8080/"
        },
        "id": "a0vRnzquCKsS",
        "outputId": "30bffad9-670a-48cf-cebf-0e484dbe10ef"
      },
      "execution_count": null,
      "outputs": [
        {
          "output_type": "stream",
          "name": "stdout",
          "text": [
            "CPU times: user 565 µs, sys: 920 µs, total: 1.48 ms\n",
            "Wall time: 1.2 ms\n"
          ]
        },
        {
          "output_type": "execute_result",
          "data": {
            "text/plain": [
              "tensor(14)"
            ]
          },
          "metadata": {},
          "execution_count": 27
        }
      ]
    },
    {
      "cell_type": "code",
      "source": [
        "%%time\n",
        "torch.matmul(tensor, tensor)"
      ],
      "metadata": {
        "colab": {
          "base_uri": "https://localhost:8080/"
        },
        "id": "HQATKvivCRka",
        "outputId": "1b2c3fe1-baab-4086-a961-8e3f1572d1a2"
      },
      "execution_count": null,
      "outputs": [
        {
          "output_type": "stream",
          "name": "stdout",
          "text": [
            "CPU times: user 819 µs, sys: 0 ns, total: 819 µs\n",
            "Wall time: 825 µs\n"
          ]
        },
        {
          "output_type": "execute_result",
          "data": {
            "text/plain": [
              "tensor(14)"
            ]
          },
          "metadata": {},
          "execution_count": 28
        }
      ]
    },
    {
      "cell_type": "code",
      "source": [
        "tensor_A = torch.tensor([[1, 2],\n",
        "                         [3, 4],\n",
        "                         [5, 6]], dtype=torch.float32)\n",
        "\n",
        "tensor_B = torch.tensor([[7, 10],\n",
        "                         [8, 11], \n",
        "                         [9, 12]], dtype=torch.float32)\n",
        "\n",
        "# View tensor_A and tensor_B\n",
        "print(tensor_A)\n",
        "print(tensor_B)"
      ],
      "metadata": {
        "colab": {
          "base_uri": "https://localhost:8080/"
        },
        "id": "iNs9F8NxCXmK",
        "outputId": "b67fec58-1150-49b1-bf90-21a6dd3a5b8a"
      },
      "execution_count": null,
      "outputs": [
        {
          "output_type": "stream",
          "name": "stdout",
          "text": [
            "tensor([[1., 2.],\n",
            "        [3., 4.],\n",
            "        [5., 6.]])\n",
            "tensor([[ 7., 10.],\n",
            "        [ 8., 11.],\n",
            "        [ 9., 12.]])\n"
          ]
        }
      ]
    },
    {
      "cell_type": "code",
      "source": [
        "# View tensor_A and tensor_B.T\n",
        "print(tensor_A)\n",
        "print(tensor_B.T)"
      ],
      "metadata": {
        "colab": {
          "base_uri": "https://localhost:8080/"
        },
        "id": "YeuyvKmBCXqj",
        "outputId": "f5ef214c-ef4c-4cd1-af6b-315564b569ce"
      },
      "execution_count": null,
      "outputs": [
        {
          "output_type": "stream",
          "name": "stdout",
          "text": [
            "tensor([[1., 2.],\n",
            "        [3., 4.],\n",
            "        [5., 6.]])\n",
            "tensor([[ 7.,  8.,  9.],\n",
            "        [10., 11., 12.]])\n"
          ]
        }
      ]
    },
    {
      "cell_type": "code",
      "source": [
        "# torch.mm is a shortcut for matmul\n",
        "torch.mm(tensor_A, tensor_B.T)"
      ],
      "metadata": {
        "colab": {
          "base_uri": "https://localhost:8080/"
        },
        "id": "4wD8CqtXClzp",
        "outputId": "758c889d-14bc-4430-e26a-e17e5575dbb9"
      },
      "execution_count": null,
      "outputs": [
        {
          "output_type": "execute_result",
          "data": {
            "text/plain": [
              "tensor([[ 27.,  30.,  33.],\n",
              "        [ 61.,  68.,  75.],\n",
              "        [ 95., 106., 117.]])"
            ]
          },
          "metadata": {},
          "execution_count": 32
        }
      ]
    },
    {
      "cell_type": "markdown",
      "source": [
        "\n",
        "**Finding the min, max, mean, sum, etc (aggregation)**"
      ],
      "metadata": {
        "id": "wwj5eW6-B9tq"
      }
    },
    {
      "cell_type": "code",
      "source": [
        "# Create a tensor\n",
        "x = torch.arange(0, 100, 10)\n",
        "x"
      ],
      "metadata": {
        "colab": {
          "base_uri": "https://localhost:8080/"
        },
        "id": "DtWWOHh8Cl6c",
        "outputId": "4c8f8f9c-7d52-4dc3-e441-286675ea93a7"
      },
      "execution_count": null,
      "outputs": [
        {
          "output_type": "execute_result",
          "data": {
            "text/plain": [
              "tensor([ 0, 10, 20, 30, 40, 50, 60, 70, 80, 90])"
            ]
          },
          "metadata": {},
          "execution_count": 33
        }
      ]
    },
    {
      "cell_type": "code",
      "source": [
        "print(f\"Minimum: {x.min()}\")\n",
        "print(f\"Maximum: {x.max()}\")\n",
        "# print(f\"Mean: {x.mean()}\") # this will error\n",
        "print(f\"Mean: {x.type(torch.float32).mean()}\") # won't work without float datatype\n",
        "print(f\"Sum: {x.sum()}\")"
      ],
      "metadata": {
        "colab": {
          "base_uri": "https://localhost:8080/"
        },
        "id": "mY7-3xI_C1nb",
        "outputId": "a8522656-537d-42fc-c1b4-783a8adf64c6"
      },
      "execution_count": null,
      "outputs": [
        {
          "output_type": "stream",
          "name": "stdout",
          "text": [
            "Minimum: 0\n",
            "Maximum: 90\n",
            "Mean: 45.0\n",
            "Sum: 450\n"
          ]
        }
      ]
    },
    {
      "cell_type": "code",
      "source": [
        "torch.max(x), torch.min(x), torch.mean(x.type(torch.float32)), torch.sum(x)\n"
      ],
      "metadata": {
        "colab": {
          "base_uri": "https://localhost:8080/"
        },
        "id": "hb4GJ0hqC6jy",
        "outputId": "a90d2443-cd77-4cf4-a5a2-174f4efcd1f6"
      },
      "execution_count": null,
      "outputs": [
        {
          "output_type": "execute_result",
          "data": {
            "text/plain": [
              "(tensor(90), tensor(0), tensor(45.), tensor(450))"
            ]
          },
          "metadata": {},
          "execution_count": 35
        }
      ]
    },
    {
      "cell_type": "code",
      "source": [
        "# Create a tensor\n",
        "tensor = torch.arange(10, 100, 10)\n",
        "print(f\"Tensor: {tensor}\")\n",
        "\n",
        "# Returns index of max and min values\n",
        "print(f\"Index where max value occurs: {tensor.argmax()}\")\n",
        "print(f\"Index where min value occurs: {tensor.argmin()}\")"
      ],
      "metadata": {
        "colab": {
          "base_uri": "https://localhost:8080/"
        },
        "id": "AzRq5MeeC947",
        "outputId": "cb882648-904c-49d1-ca75-ea94184fbcdf"
      },
      "execution_count": null,
      "outputs": [
        {
          "output_type": "stream",
          "name": "stdout",
          "text": [
            "Tensor: tensor([10, 20, 30, 40, 50, 60, 70, 80, 90])\n",
            "Index where max value occurs: 8\n",
            "Index where min value occurs: 0\n"
          ]
        }
      ]
    },
    {
      "cell_type": "markdown",
      "source": [
        "\n",
        "**Change tensor datatype**"
      ],
      "metadata": {
        "id": "hRYSJ3WPDBwk"
      }
    },
    {
      "cell_type": "code",
      "source": [
        "# Create a float16 tensor\n",
        "tensor_float16 = tensor.type(torch.float16)\n",
        "tensor_float16"
      ],
      "metadata": {
        "colab": {
          "base_uri": "https://localhost:8080/"
        },
        "id": "1jXfOTdeDGFs",
        "outputId": "25a0b3b6-f15a-41e4-9fe5-b017229a2350"
      },
      "execution_count": null,
      "outputs": [
        {
          "output_type": "execute_result",
          "data": {
            "text/plain": [
              "tensor([10., 20., 30., 40., 50., 60., 70., 80., 90.], dtype=torch.float16)"
            ]
          },
          "metadata": {},
          "execution_count": 37
        }
      ]
    },
    {
      "cell_type": "code",
      "source": [
        "# Create a int8 tensor\n",
        "tensor_int8 = tensor.type(torch.int8)\n",
        "tensor_int8"
      ],
      "metadata": {
        "colab": {
          "base_uri": "https://localhost:8080/"
        },
        "id": "XV-haZlQDGQT",
        "outputId": "b939f9df-1bc2-40af-b394-3d5a60e0db23"
      },
      "execution_count": null,
      "outputs": [
        {
          "output_type": "execute_result",
          "data": {
            "text/plain": [
              "tensor([10, 20, 30, 40, 50, 60, 70, 80, 90], dtype=torch.int8)"
            ]
          },
          "metadata": {},
          "execution_count": 38
        }
      ]
    },
    {
      "cell_type": "markdown",
      "source": [
        "\n",
        "**Reshaping, stacking, squeezing and unsqueezing**"
      ],
      "metadata": {
        "id": "IzLnXLT0DOEr"
      }
    },
    {
      "cell_type": "code",
      "source": [
        "# Create a tensor\n",
        "import torch\n",
        "x = torch.arange(1., 8.)\n",
        "x, x.shape"
      ],
      "metadata": {
        "colab": {
          "base_uri": "https://localhost:8080/"
        },
        "id": "mE-vFSvKDS5c",
        "outputId": "1ea57ac1-86e6-4ae4-c9f6-13ac9e3035c2"
      },
      "execution_count": null,
      "outputs": [
        {
          "output_type": "execute_result",
          "data": {
            "text/plain": [
              "(tensor([1., 2., 3., 4., 5., 6., 7.]), torch.Size([7]))"
            ]
          },
          "metadata": {},
          "execution_count": 39
        }
      ]
    },
    {
      "cell_type": "code",
      "source": [
        "# Add an extra dimension\n",
        "x_reshaped = x.reshape(1, 7)\n",
        "x_reshaped, x_reshaped.shape"
      ],
      "metadata": {
        "colab": {
          "base_uri": "https://localhost:8080/"
        },
        "id": "WWehoN26DUNc",
        "outputId": "acf7f9cf-2146-47ef-c963-84c1bf05bdac"
      },
      "execution_count": null,
      "outputs": [
        {
          "output_type": "execute_result",
          "data": {
            "text/plain": [
              "(tensor([[1., 2., 3., 4., 5., 6., 7.]]), torch.Size([1, 7]))"
            ]
          },
          "metadata": {},
          "execution_count": 40
        }
      ]
    },
    {
      "cell_type": "code",
      "source": [
        "# Change view (keeps same data as original but changes view)\n",
        "# See more: https://stackoverflow.com/a/54507446/7900723\n",
        "z = x.view(1, 7)\n",
        "z, z.shape"
      ],
      "metadata": {
        "colab": {
          "base_uri": "https://localhost:8080/"
        },
        "id": "mJ1lib_qDcJD",
        "outputId": "1ccb224e-19f2-455b-91ba-a3f7d8ff33e2"
      },
      "execution_count": null,
      "outputs": [
        {
          "output_type": "execute_result",
          "data": {
            "text/plain": [
              "(tensor([[1., 2., 3., 4., 5., 6., 7.]]), torch.Size([1, 7]))"
            ]
          },
          "metadata": {},
          "execution_count": 41
        }
      ]
    },
    {
      "cell_type": "markdown",
      "source": [
        "Remember though, changing the view of a tensor with torch.view() really only creates a new view of the same tensor.\n",
        "\n",
        "So changing the view changes the original tensor too."
      ],
      "metadata": {
        "id": "pJHZJyWaDjJD"
      }
    },
    {
      "cell_type": "code",
      "source": [
        "# Changing z changes x\n",
        "z[:, 0] = 5\n",
        "z, x"
      ],
      "metadata": {
        "colab": {
          "base_uri": "https://localhost:8080/"
        },
        "id": "D-AR9w51Dn-1",
        "outputId": "026fc513-3528-4313-8468-30b8b57f2108"
      },
      "execution_count": null,
      "outputs": [
        {
          "output_type": "execute_result",
          "data": {
            "text/plain": [
              "(tensor([[5., 2., 3., 4., 5., 6., 7.]]), tensor([5., 2., 3., 4., 5., 6., 7.]))"
            ]
          },
          "metadata": {},
          "execution_count": 42
        }
      ]
    },
    {
      "cell_type": "code",
      "source": [
        "# Stack tensors on top of each other\n",
        "x_stacked = torch.stack([x, x, x, x], dim=0) # try changing dim to dim=1 and see what happens\n",
        "x_stacked"
      ],
      "metadata": {
        "colab": {
          "base_uri": "https://localhost:8080/"
        },
        "id": "txic8VVzDrUD",
        "outputId": "a302810a-46ad-4165-c741-1b618227801b"
      },
      "execution_count": null,
      "outputs": [
        {
          "output_type": "execute_result",
          "data": {
            "text/plain": [
              "tensor([[5., 2., 3., 4., 5., 6., 7.],\n",
              "        [5., 2., 3., 4., 5., 6., 7.],\n",
              "        [5., 2., 3., 4., 5., 6., 7.],\n",
              "        [5., 2., 3., 4., 5., 6., 7.]])"
            ]
          },
          "metadata": {},
          "execution_count": 43
        }
      ]
    },
    {
      "cell_type": "code",
      "source": [
        "print(f\"Previous tensor: {x_reshaped}\")\n",
        "print(f\"Previous shape: {x_reshaped.shape}\")\n",
        "\n",
        "# Remove extra dimension from x_reshaped\n",
        "x_squeezed = x_reshaped.squeeze()\n",
        "print(f\"\\nNew tensor: {x_squeezed}\")\n",
        "print(f\"New shape: {x_squeezed.shape}\")"
      ],
      "metadata": {
        "colab": {
          "base_uri": "https://localhost:8080/"
        },
        "id": "KAjYt7DPDti7",
        "outputId": "24f15cf8-e672-4324-d64f-20ef0c9f9bce"
      },
      "execution_count": null,
      "outputs": [
        {
          "output_type": "stream",
          "name": "stdout",
          "text": [
            "Previous tensor: tensor([[5., 2., 3., 4., 5., 6., 7.]])\n",
            "Previous shape: torch.Size([1, 7])\n",
            "\n",
            "New tensor: tensor([5., 2., 3., 4., 5., 6., 7.])\n",
            "New shape: torch.Size([7])\n"
          ]
        }
      ]
    },
    {
      "cell_type": "code",
      "source": [
        "print(f\"Previous tensor: {x_squeezed}\")\n",
        "print(f\"Previous shape: {x_squeezed.shape}\")\n",
        "\n",
        "## Add an extra dimension with unsqueeze\n",
        "x_unsqueezed = x_squeezed.unsqueeze(dim=0)\n",
        "print(f\"\\nNew tensor: {x_unsqueezed}\")\n",
        "print(f\"New shape: {x_unsqueezed.shape}\")"
      ],
      "metadata": {
        "colab": {
          "base_uri": "https://localhost:8080/"
        },
        "id": "KgXpzUfnDzSD",
        "outputId": "b968b215-4660-4b0d-d5f5-03bc84f49dd9"
      },
      "execution_count": null,
      "outputs": [
        {
          "output_type": "stream",
          "name": "stdout",
          "text": [
            "Previous tensor: tensor([5., 2., 3., 4., 5., 6., 7.])\n",
            "Previous shape: torch.Size([7])\n",
            "\n",
            "New tensor: tensor([[5., 2., 3., 4., 5., 6., 7.]])\n",
            "New shape: torch.Size([1, 7])\n"
          ]
        }
      ]
    },
    {
      "cell_type": "code",
      "source": [
        "# Create tensor with specific shape\n",
        "x_original = torch.rand(size=(224, 224, 3))\n",
        "\n",
        "# Permute the original tensor to rearrange the axis order\n",
        "x_permuted = x_original.permute(2, 0, 1) # shifts axis 0->1, 1->2, 2->0\n",
        "\n",
        "print(f\"Previous shape: {x_original.shape}\")\n",
        "print(f\"New shape: {x_permuted.shape}\")"
      ],
      "metadata": {
        "id": "q3PMNgSDD4MT",
        "outputId": "949a79fa-a275-4798-ff4e-c98e99ec7b45",
        "colab": {
          "base_uri": "https://localhost:8080/"
        }
      },
      "execution_count": null,
      "outputs": [
        {
          "output_type": "stream",
          "name": "stdout",
          "text": [
            "Previous shape: torch.Size([224, 224, 3])\n",
            "New shape: torch.Size([3, 224, 224])\n"
          ]
        }
      ]
    }
  ]
}